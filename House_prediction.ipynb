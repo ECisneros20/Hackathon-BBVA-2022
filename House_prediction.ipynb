{
 "cells": [
  {
   "cell_type": "markdown",
   "metadata": {
    "id": "kb7KCnHSEYQm",
    "tags": []
   },
   "source": [
    "# 0. PROPUESTA JULIO DÍAZ\n",
    "\n",
    "\n"
   ]
  },
  {
   "cell_type": "markdown",
   "metadata": {
    "id": "Fikwj9wiFi1i"
   },
   "source": [
    "# 1. PARTE 1 CARGA DE DATOS\n"
   ]
  },
  {
   "cell_type": "code",
   "execution_count": 2,
   "metadata": {
    "executionInfo": {
     "elapsed": 3518,
     "status": "ok",
     "timestamp": 1665125899418,
     "user": {
      "displayName": "ENZO FABRIZIO STEFANO CISNEROS COLLAZOS",
      "userId": "08203253291878922183"
     },
     "user_tz": 300
    },
    "id": "P3c2Q7pDFFZQ"
   },
   "outputs": [],
   "source": [
    "import pandas as pd\n",
    "\n",
    "\n",
    "path = 'pe_properties.csv'\n",
    "df=pd.read_csv(path)\n",
    "\n",
    "\n",
    "\n"
   ]
  },
  {
   "cell_type": "code",
   "execution_count": 3,
   "metadata": {
    "colab": {
     "base_uri": "https://localhost:8080/",
     "height": 629
    },
    "executionInfo": {
     "elapsed": 15,
     "status": "ok",
     "timestamp": 1665125899419,
     "user": {
      "displayName": "ENZO FABRIZIO STEFANO CISNEROS COLLAZOS",
      "userId": "08203253291878922183"
     },
     "user_tz": 300
    },
    "id": "9g6I2pLbIRzm",
    "outputId": "654bd43b-0c05-45e7-938c-43a1484da115"
   },
   "outputs": [
    {
     "data": {
      "text/html": [
       "<div>\n",
       "<style scoped>\n",
       "    .dataframe tbody tr th:only-of-type {\n",
       "        vertical-align: middle;\n",
       "    }\n",
       "\n",
       "    .dataframe tbody tr th {\n",
       "        vertical-align: top;\n",
       "    }\n",
       "\n",
       "    .dataframe thead th {\n",
       "        text-align: right;\n",
       "    }\n",
       "</style>\n",
       "<table border=\"1\" class=\"dataframe\">\n",
       "  <thead>\n",
       "    <tr style=\"text-align: right;\">\n",
       "      <th></th>\n",
       "      <th>id</th>\n",
       "      <th>ad_type</th>\n",
       "      <th>start_date</th>\n",
       "      <th>end_date</th>\n",
       "      <th>created_on</th>\n",
       "      <th>lat</th>\n",
       "      <th>lon</th>\n",
       "      <th>l1</th>\n",
       "      <th>l2</th>\n",
       "      <th>l3</th>\n",
       "      <th>...</th>\n",
       "      <th>bathrooms</th>\n",
       "      <th>surface_total</th>\n",
       "      <th>surface_covered</th>\n",
       "      <th>price</th>\n",
       "      <th>currency</th>\n",
       "      <th>price_period</th>\n",
       "      <th>title</th>\n",
       "      <th>description</th>\n",
       "      <th>property_type</th>\n",
       "      <th>operation_type</th>\n",
       "    </tr>\n",
       "  </thead>\n",
       "  <tbody>\n",
       "    <tr>\n",
       "      <th>0</th>\n",
       "      <td>1qOI7X9aqAcO7PzjX1B29Q==</td>\n",
       "      <td>Propiedad</td>\n",
       "      <td>2021-06-03</td>\n",
       "      <td>2021-08-27</td>\n",
       "      <td>2021-06-03</td>\n",
       "      <td>NaN</td>\n",
       "      <td>NaN</td>\n",
       "      <td>Perú</td>\n",
       "      <td>Lima</td>\n",
       "      <td>Lima</td>\n",
       "      <td>...</td>\n",
       "      <td>5.0</td>\n",
       "      <td>NaN</td>\n",
       "      <td>NaN</td>\n",
       "      <td>450000.0</td>\n",
       "      <td>USD</td>\n",
       "      <td>NaN</td>\n",
       "      <td>CASA DE PLAYA VENDO EN LAS LAGUNAS</td>\n",
       "      <td>&lt;b&gt;CASA DE PLAYA VENDO EN LAS LAGUNAS&lt;/b&gt;&lt;br&gt;&lt;...</td>\n",
       "      <td>Casa</td>\n",
       "      <td>Venta</td>\n",
       "    </tr>\n",
       "    <tr>\n",
       "      <th>1</th>\n",
       "      <td>J350rcSI7Fx+92Wb1ev7rw==</td>\n",
       "      <td>Propiedad</td>\n",
       "      <td>2021-06-03</td>\n",
       "      <td>2021-07-07</td>\n",
       "      <td>2021-06-03</td>\n",
       "      <td>NaN</td>\n",
       "      <td>NaN</td>\n",
       "      <td>Perú</td>\n",
       "      <td>Arequipa</td>\n",
       "      <td>Arequipa</td>\n",
       "      <td>...</td>\n",
       "      <td>6.0</td>\n",
       "      <td>NaN</td>\n",
       "      <td>NaN</td>\n",
       "      <td>1050000.0</td>\n",
       "      <td>USD</td>\n",
       "      <td>NaN</td>\n",
       "      <td>HERMOSA CASA DE ENSUEÑOS EN CERRO COLORADO</td>\n",
       "      <td>&lt;b&gt;HERMOSA CASA DE ENSUEÑOS EN CERRO COLORADO&lt;...</td>\n",
       "      <td>Casa</td>\n",
       "      <td>Venta</td>\n",
       "    </tr>\n",
       "    <tr>\n",
       "      <th>2</th>\n",
       "      <td>P+3USxoY2w5HQwg1N8JCtg==</td>\n",
       "      <td>Propiedad</td>\n",
       "      <td>2021-06-03</td>\n",
       "      <td>9999-12-31</td>\n",
       "      <td>2021-06-03</td>\n",
       "      <td>-8.095431</td>\n",
       "      <td>-79.053100</td>\n",
       "      <td>Perú</td>\n",
       "      <td>La Libertad</td>\n",
       "      <td>Trujillo</td>\n",
       "      <td>...</td>\n",
       "      <td>4.0</td>\n",
       "      <td>NaN</td>\n",
       "      <td>NaN</td>\n",
       "      <td>179000.0</td>\n",
       "      <td>USD</td>\n",
       "      <td>NaN</td>\n",
       "      <td>[ VENTA ]: ESTRENA TU CASA EN URB. SOL Y LUZ C...</td>\n",
       "      <td>&lt;b&gt;[ VENTA ]: ESTRENA TU CASA EN URB. SOL Y LU...</td>\n",
       "      <td>Casa</td>\n",
       "      <td>Venta</td>\n",
       "    </tr>\n",
       "    <tr>\n",
       "      <th>3</th>\n",
       "      <td>I9llUYb61GVgLNDUJ6CT5A==</td>\n",
       "      <td>Propiedad</td>\n",
       "      <td>2021-06-03</td>\n",
       "      <td>2021-06-04</td>\n",
       "      <td>2021-06-03</td>\n",
       "      <td>-13.840915</td>\n",
       "      <td>-76.250830</td>\n",
       "      <td>Perú</td>\n",
       "      <td>Ica</td>\n",
       "      <td>Ica</td>\n",
       "      <td>...</td>\n",
       "      <td>NaN</td>\n",
       "      <td>1120.0</td>\n",
       "      <td>NaN</td>\n",
       "      <td>52000.0</td>\n",
       "      <td>USD</td>\n",
       "      <td>Mensual</td>\n",
       "      <td>Lote venta</td>\n",
       "      <td>Hábitat VIp vende exclusivo terreno 1120 m2  e...</td>\n",
       "      <td>Lote</td>\n",
       "      <td>Venta</td>\n",
       "    </tr>\n",
       "    <tr>\n",
       "      <th>4</th>\n",
       "      <td>d7Sw3mL1Vq0dmzoXNpJUNQ==</td>\n",
       "      <td>Propiedad</td>\n",
       "      <td>2021-06-03</td>\n",
       "      <td>2021-06-04</td>\n",
       "      <td>2021-06-03</td>\n",
       "      <td>-12.799091</td>\n",
       "      <td>-76.569120</td>\n",
       "      <td>Perú</td>\n",
       "      <td>Lima</td>\n",
       "      <td>Lima</td>\n",
       "      <td>...</td>\n",
       "      <td>NaN</td>\n",
       "      <td>500.0</td>\n",
       "      <td>NaN</td>\n",
       "      <td>70000.0</td>\n",
       "      <td>USD</td>\n",
       "      <td>Mensual</td>\n",
       "      <td>Lote venta</td>\n",
       "      <td>Hábitat Vip Vende lote 500 m2 \\r\\nUbicado a ta...</td>\n",
       "      <td>Lote</td>\n",
       "      <td>Venta</td>\n",
       "    </tr>\n",
       "    <tr>\n",
       "      <th>...</th>\n",
       "      <td>...</td>\n",
       "      <td>...</td>\n",
       "      <td>...</td>\n",
       "      <td>...</td>\n",
       "      <td>...</td>\n",
       "      <td>...</td>\n",
       "      <td>...</td>\n",
       "      <td>...</td>\n",
       "      <td>...</td>\n",
       "      <td>...</td>\n",
       "      <td>...</td>\n",
       "      <td>...</td>\n",
       "      <td>...</td>\n",
       "      <td>...</td>\n",
       "      <td>...</td>\n",
       "      <td>...</td>\n",
       "      <td>...</td>\n",
       "      <td>...</td>\n",
       "      <td>...</td>\n",
       "      <td>...</td>\n",
       "      <td>...</td>\n",
       "    </tr>\n",
       "    <tr>\n",
       "      <th>100619</th>\n",
       "      <td>WyZKSpo/YvheNozTnPoVHA==</td>\n",
       "      <td>Propiedad</td>\n",
       "      <td>2021-05-27</td>\n",
       "      <td>2021-06-15</td>\n",
       "      <td>2021-05-27</td>\n",
       "      <td>NaN</td>\n",
       "      <td>NaN</td>\n",
       "      <td>Perú</td>\n",
       "      <td>Arequipa</td>\n",
       "      <td>Arequipa</td>\n",
       "      <td>...</td>\n",
       "      <td>5.0</td>\n",
       "      <td>NaN</td>\n",
       "      <td>NaN</td>\n",
       "      <td>428000.0</td>\n",
       "      <td>USD</td>\n",
       "      <td>NaN</td>\n",
       "      <td>CASA EN VENTA EN EL CERCADO DE AREQUIPA</td>\n",
       "      <td>&lt;b&gt;CASA EN VENTA EN EL CERCADO DE AREQUIPA&lt;/b&gt;...</td>\n",
       "      <td>Casa</td>\n",
       "      <td>Venta</td>\n",
       "    </tr>\n",
       "    <tr>\n",
       "      <th>100620</th>\n",
       "      <td>6cy+KTI2+ctSeXDIycRZ9Q==</td>\n",
       "      <td>Propiedad</td>\n",
       "      <td>2021-05-27</td>\n",
       "      <td>2021-10-04</td>\n",
       "      <td>2021-05-27</td>\n",
       "      <td>-12.260809</td>\n",
       "      <td>-76.884048</td>\n",
       "      <td>Perú</td>\n",
       "      <td>Lima</td>\n",
       "      <td>Lima</td>\n",
       "      <td>...</td>\n",
       "      <td>5.0</td>\n",
       "      <td>NaN</td>\n",
       "      <td>NaN</td>\n",
       "      <td>699000.0</td>\n",
       "      <td>USD</td>\n",
       "      <td>NaN</td>\n",
       "      <td>Venta de Exclusiva Casa en Condominio Paso Chico</td>\n",
       "      <td>&lt;b&gt;Venta de Exclusiva Casa en Condominio Paso ...</td>\n",
       "      <td>Casa</td>\n",
       "      <td>Venta</td>\n",
       "    </tr>\n",
       "    <tr>\n",
       "      <th>100621</th>\n",
       "      <td>yatXnRoWUVmgvJ16zXUY3Q==</td>\n",
       "      <td>Propiedad</td>\n",
       "      <td>2021-05-27</td>\n",
       "      <td>2021-08-16</td>\n",
       "      <td>2021-05-27</td>\n",
       "      <td>-12.094668</td>\n",
       "      <td>-76.899478</td>\n",
       "      <td>Perú</td>\n",
       "      <td>Lima</td>\n",
       "      <td>Lima</td>\n",
       "      <td>...</td>\n",
       "      <td>6.0</td>\n",
       "      <td>350.0</td>\n",
       "      <td>288.0</td>\n",
       "      <td>300000.0</td>\n",
       "      <td>USD</td>\n",
       "      <td>Mensual</td>\n",
       "      <td>VENDO 2 lindas casas en un mismo terreno en La...</td>\n",
       "      <td>VENDO 2 LINDAS CASAS EN UN MISMO TERRENO, LOS ...</td>\n",
       "      <td>Casa</td>\n",
       "      <td>Venta</td>\n",
       "    </tr>\n",
       "    <tr>\n",
       "      <th>100622</th>\n",
       "      <td>j2m055N7hCGWkRcgMvTk2w==</td>\n",
       "      <td>Propiedad</td>\n",
       "      <td>2021-05-27</td>\n",
       "      <td>9999-12-31</td>\n",
       "      <td>2021-05-27</td>\n",
       "      <td>-10.742903</td>\n",
       "      <td>-77.753817</td>\n",
       "      <td>Perú</td>\n",
       "      <td>Lima</td>\n",
       "      <td>Barranca</td>\n",
       "      <td>...</td>\n",
       "      <td>6.0</td>\n",
       "      <td>250.0</td>\n",
       "      <td>1686.0</td>\n",
       "      <td>758497.0</td>\n",
       "      <td>USD</td>\n",
       "      <td>Mensual</td>\n",
       "      <td>OPORTUNIDAD LOCAL EN VENTA PARA TO TIPO DE INV...</td>\n",
       "      <td>Local Ubicado en la urb virgen de chapi en Bar...</td>\n",
       "      <td>Departamento</td>\n",
       "      <td>Venta</td>\n",
       "    </tr>\n",
       "    <tr>\n",
       "      <th>100623</th>\n",
       "      <td>Rtu0lXhZjXvLYzjN+rWvng==</td>\n",
       "      <td>Propiedad</td>\n",
       "      <td>2021-05-27</td>\n",
       "      <td>2021-08-06</td>\n",
       "      <td>2021-05-27</td>\n",
       "      <td>-12.124920</td>\n",
       "      <td>-76.981407</td>\n",
       "      <td>Perú</td>\n",
       "      <td>Lima</td>\n",
       "      <td>Lima</td>\n",
       "      <td>...</td>\n",
       "      <td>6.0</td>\n",
       "      <td>400.0</td>\n",
       "      <td>475.0</td>\n",
       "      <td>1100000.0</td>\n",
       "      <td>USD</td>\n",
       "      <td>Mensual</td>\n",
       "      <td>Exclusiva casa en venta, en la mejor zona de C...</td>\n",
       "      <td>Hermosa Casa en el distrito de Santiago de sur...</td>\n",
       "      <td>Casa</td>\n",
       "      <td>Venta</td>\n",
       "    </tr>\n",
       "  </tbody>\n",
       "</table>\n",
       "<p>100624 rows × 25 columns</p>\n",
       "</div>"
      ],
      "text/plain": [
       "                              id    ad_type  start_date    end_date  \\\n",
       "0       1qOI7X9aqAcO7PzjX1B29Q==  Propiedad  2021-06-03  2021-08-27   \n",
       "1       J350rcSI7Fx+92Wb1ev7rw==  Propiedad  2021-06-03  2021-07-07   \n",
       "2       P+3USxoY2w5HQwg1N8JCtg==  Propiedad  2021-06-03  9999-12-31   \n",
       "3       I9llUYb61GVgLNDUJ6CT5A==  Propiedad  2021-06-03  2021-06-04   \n",
       "4       d7Sw3mL1Vq0dmzoXNpJUNQ==  Propiedad  2021-06-03  2021-06-04   \n",
       "...                          ...        ...         ...         ...   \n",
       "100619  WyZKSpo/YvheNozTnPoVHA==  Propiedad  2021-05-27  2021-06-15   \n",
       "100620  6cy+KTI2+ctSeXDIycRZ9Q==  Propiedad  2021-05-27  2021-10-04   \n",
       "100621  yatXnRoWUVmgvJ16zXUY3Q==  Propiedad  2021-05-27  2021-08-16   \n",
       "100622  j2m055N7hCGWkRcgMvTk2w==  Propiedad  2021-05-27  9999-12-31   \n",
       "100623  Rtu0lXhZjXvLYzjN+rWvng==  Propiedad  2021-05-27  2021-08-06   \n",
       "\n",
       "        created_on        lat        lon    l1           l2        l3  ...  \\\n",
       "0       2021-06-03        NaN        NaN  Perú         Lima      Lima  ...   \n",
       "1       2021-06-03        NaN        NaN  Perú     Arequipa  Arequipa  ...   \n",
       "2       2021-06-03  -8.095431 -79.053100  Perú  La Libertad  Trujillo  ...   \n",
       "3       2021-06-03 -13.840915 -76.250830  Perú          Ica       Ica  ...   \n",
       "4       2021-06-03 -12.799091 -76.569120  Perú         Lima      Lima  ...   \n",
       "...            ...        ...        ...   ...          ...       ...  ...   \n",
       "100619  2021-05-27        NaN        NaN  Perú     Arequipa  Arequipa  ...   \n",
       "100620  2021-05-27 -12.260809 -76.884048  Perú         Lima      Lima  ...   \n",
       "100621  2021-05-27 -12.094668 -76.899478  Perú         Lima      Lima  ...   \n",
       "100622  2021-05-27 -10.742903 -77.753817  Perú         Lima  Barranca  ...   \n",
       "100623  2021-05-27 -12.124920 -76.981407  Perú         Lima      Lima  ...   \n",
       "\n",
       "       bathrooms surface_total surface_covered      price  currency  \\\n",
       "0            5.0           NaN             NaN   450000.0       USD   \n",
       "1            6.0           NaN             NaN  1050000.0       USD   \n",
       "2            4.0           NaN             NaN   179000.0       USD   \n",
       "3            NaN        1120.0             NaN    52000.0       USD   \n",
       "4            NaN         500.0             NaN    70000.0       USD   \n",
       "...          ...           ...             ...        ...       ...   \n",
       "100619       5.0           NaN             NaN   428000.0       USD   \n",
       "100620       5.0           NaN             NaN   699000.0       USD   \n",
       "100621       6.0         350.0           288.0   300000.0       USD   \n",
       "100622       6.0         250.0          1686.0   758497.0       USD   \n",
       "100623       6.0         400.0           475.0  1100000.0       USD   \n",
       "\n",
       "        price_period                                              title  \\\n",
       "0                NaN                 CASA DE PLAYA VENDO EN LAS LAGUNAS   \n",
       "1                NaN         HERMOSA CASA DE ENSUEÑOS EN CERRO COLORADO   \n",
       "2                NaN  [ VENTA ]: ESTRENA TU CASA EN URB. SOL Y LUZ C...   \n",
       "3            Mensual                                         Lote venta   \n",
       "4            Mensual                                         Lote venta   \n",
       "...              ...                                                ...   \n",
       "100619           NaN            CASA EN VENTA EN EL CERCADO DE AREQUIPA   \n",
       "100620           NaN   Venta de Exclusiva Casa en Condominio Paso Chico   \n",
       "100621       Mensual  VENDO 2 lindas casas en un mismo terreno en La...   \n",
       "100622       Mensual  OPORTUNIDAD LOCAL EN VENTA PARA TO TIPO DE INV...   \n",
       "100623       Mensual  Exclusiva casa en venta, en la mejor zona de C...   \n",
       "\n",
       "                                              description  property_type  \\\n",
       "0       <b>CASA DE PLAYA VENDO EN LAS LAGUNAS</b><br><...           Casa   \n",
       "1       <b>HERMOSA CASA DE ENSUEÑOS EN CERRO COLORADO<...           Casa   \n",
       "2       <b>[ VENTA ]: ESTRENA TU CASA EN URB. SOL Y LU...           Casa   \n",
       "3       Hábitat VIp vende exclusivo terreno 1120 m2  e...           Lote   \n",
       "4       Hábitat Vip Vende lote 500 m2 \\r\\nUbicado a ta...           Lote   \n",
       "...                                                   ...            ...   \n",
       "100619  <b>CASA EN VENTA EN EL CERCADO DE AREQUIPA</b>...           Casa   \n",
       "100620  <b>Venta de Exclusiva Casa en Condominio Paso ...           Casa   \n",
       "100621  VENDO 2 LINDAS CASAS EN UN MISMO TERRENO, LOS ...           Casa   \n",
       "100622  Local Ubicado en la urb virgen de chapi en Bar...   Departamento   \n",
       "100623  Hermosa Casa en el distrito de Santiago de sur...           Casa   \n",
       "\n",
       "       operation_type  \n",
       "0               Venta  \n",
       "1               Venta  \n",
       "2               Venta  \n",
       "3               Venta  \n",
       "4               Venta  \n",
       "...               ...  \n",
       "100619          Venta  \n",
       "100620          Venta  \n",
       "100621          Venta  \n",
       "100622          Venta  \n",
       "100623          Venta  \n",
       "\n",
       "[100624 rows x 25 columns]"
      ]
     },
     "execution_count": 3,
     "metadata": {},
     "output_type": "execute_result"
    }
   ],
   "source": [
    "df"
   ]
  },
  {
   "cell_type": "code",
   "execution_count": 4,
   "metadata": {
    "id": "OMSitT9NIVjH"
   },
   "outputs": [],
   "source": [
    "### PASO 1 DIVIR ENTRE /1000 EL PRECIO\n",
    "### REVISION DE NANS\n",
    "nul=df.isnull().sum()\n",
    "\n",
    "df = df[df['price'].notna()]"
   ]
  },
  {
   "cell_type": "code",
   "execution_count": 5,
   "metadata": {},
   "outputs": [
    {
     "name": "stdout",
     "output_type": "stream",
     "text": [
      "id : 0 CANTIDAD DE NANS\n",
      "id : 0.0 %\n",
      "ad_type : 0 CANTIDAD DE NANS\n",
      "ad_type : 0.0 %\n",
      "start_date : 0 CANTIDAD DE NANS\n",
      "start_date : 0.0 %\n",
      "end_date : 0 CANTIDAD DE NANS\n",
      "end_date : 0.0 %\n",
      "created_on : 0 CANTIDAD DE NANS\n",
      "created_on : 0.0 %\n",
      "lat : 13829 CANTIDAD DE NANS\n",
      "lat : 13.833565076475237 %\n",
      "lon : 13829 CANTIDAD DE NANS\n",
      "lon : 13.833565076475237 %\n",
      "l1 : 0 CANTIDAD DE NANS\n",
      "l1 : 0.0 %\n",
      "l2 : 0 CANTIDAD DE NANS\n",
      "l2 : 0.0 %\n",
      "l3 : 3433 CANTIDAD DE NANS\n",
      "l3 : 3.4341332639771123 %\n",
      "l4 : 21953 CANTIDAD DE NANS\n",
      "l4 : 21.960246881470887 %\n",
      "l5 : 54257 CANTIDAD DE NANS\n",
      "l5 : 54.274910720537775 %\n",
      "l6 : 99138 CANTIDAD DE NANS\n",
      "l6 : 99.1707263396921 %\n",
      "rooms : 97793 CANTIDAD DE NANS\n",
      "rooms : 97.82528234317324 %\n",
      "bedrooms : 58273 CANTIDAD DE NANS\n",
      "bedrooms : 58.292236438024545 %\n",
      "bathrooms : 23548 CANTIDAD DE NANS\n",
      "bathrooms : 23.555773405223725 %\n",
      "surface_total : 83013 CANTIDAD DE NANS\n",
      "surface_total : 83.04040333309992 %\n",
      "surface_covered : 81389 CANTIDAD DE NANS\n",
      "surface_covered : 81.41586723618794 %\n",
      "price : 0 CANTIDAD DE NANS\n",
      "price : 0.0 %\n",
      "currency : 72 CANTIDAD DE NANS\n",
      "currency : 0.07202376784338832 %\n",
      "price_period : 65478 CANTIDAD DE NANS\n",
      "price_period : 65.49961487290805 %\n",
      "title : 0 CANTIDAD DE NANS\n",
      "title : 0.0 %\n",
      "description : 71 CANTIDAD DE NANS\n",
      "description : 0.07102343773445237 %\n",
      "property_type : 0 CANTIDAD DE NANS\n",
      "property_type : 0.0 %\n",
      "operation_type : 0 CANTIDAD DE NANS\n",
      "operation_type : 0.0 %\n"
     ]
    }
   ],
   "source": [
    "### MONEDA USADA GRAFICA DE VALORES DE UNA COLUMNA \n",
    "\n",
    "#df.a.value_counts().sort_values().plot(kind = 'bar')\n",
    "for i in df.columns:\n",
    "  print(i,\":\", df[i].isnull().sum().sum(),\"CANTIDAD DE NANS\")\n",
    "  print(i,\":\", df[i].isnull().sum().sum()*100/len(df),\"%\")\n",
    "  "
   ]
  },
  {
   "cell_type": "code",
   "execution_count": 6,
   "metadata": {},
   "outputs": [
    {
     "data": {
      "text/plain": [
       "<AxesSubplot:>"
      ]
     },
     "execution_count": 6,
     "metadata": {},
     "output_type": "execute_result"
    },
    {
     "data": {
      "image/png": "[encoded data removed]",
      "text/plain": [
       "<Figure size 432x288 with 1 Axes>"
      ]
     },
     "metadata": {
      "needs_background": "light"
     },
     "output_type": "display_data"
    }
   ],
   "source": [
    "df.currency.value_counts().sort_values().plot(kind = 'bar')\n"
   ]
  },
  {
   "cell_type": "code",
   "execution_count": 7,
   "metadata": {},
   "outputs": [],
   "source": [
    "### CONVERSION A DOLARES\n",
    "df.loc[df['currency'] == 'PEN', 'price'] = df['price']*0.25\n",
    "df.loc[df['currency'] != 'PEN', 'price'] = df['price']\n",
    "df.loc[df['currency'] == 'ARS', 'price'] = df['price']*0.0066102591221576"
   ]
  },
  {
   "cell_type": "code",
   "execution_count": 8,
   "metadata": {},
   "outputs": [
    {
     "name": "stderr",
     "output_type": "stream",
     "text": [
      "C:\\Users\\Hubble\\AppData\\Local\\Temp\\ipykernel_30236\\2893839276.py:3: SettingWithCopyWarning: \n",
      "A value is trying to be set on a copy of a slice from a DataFrame.\n",
      "Try using .loc[row_indexer,col_indexer] = value instead\n",
      "\n",
      "See the caveats in the documentation: https://pandas.pydata.org/pandas-docs/stable/user_guide/indexing.html#returning-a-view-versus-a-copy\n",
      "  df['price']=df['price']/1000\n"
     ]
    }
   ],
   "source": [
    "#### REDUCCION A K DE PRECIOS\n",
    "###  EJM 5000 = 5K\n",
    "df['price']=df['price']/1000\n"
   ]
  },
  {
   "cell_type": "code",
   "execution_count": 9,
   "metadata": {},
   "outputs": [],
   "source": [
    "df=df.drop(['id', 'ad_type', 'start_date', 'end_date', 'created_on',\n",
    "            'lat', 'lon','l1','l2','l3','l4','l6','rooms','surface_total',\n",
    "            'surface_covered','currency','price_period', 'description',\n",
    "            'title','operation_type'],axis=1)\n",
    "## # ELIMINAR NANDS DE L5\n",
    "df = df[df['l5'].notna()]\n"
   ]
  },
  {
   "cell_type": "code",
   "execution_count": 10,
   "metadata": {},
   "outputs": [],
   "source": [
    "df = df.reset_index(drop=True)\n",
    "\n",
    "df=df[['l5', 'bedrooms', 'bathrooms', 'property_type', 'price']]\n"
   ]
  },
  {
   "cell_type": "code",
   "execution_count": 11,
   "metadata": {},
   "outputs": [],
   "source": [
    "\n",
    "####DATAFRAME\n",
    "X = df.iloc[:, :-1].values \n",
    "y = df.iloc[:,-1].values\n"
   ]
  },
  {
   "cell_type": "code",
   "execution_count": 12,
   "metadata": {},
   "outputs": [
    {
     "name": "stdout",
     "output_type": "stream",
     "text": [
      "l5 : 0 CANTIDAD DE NANS\n",
      "l5 : 0.0 %\n",
      "bedrooms : 24158 CANTIDAD DE NANS\n",
      "bedrooms : 52.8505797418508 %\n",
      "bathrooms : 8439 CANTIDAD DE NANS\n",
      "bathrooms : 18.462043316560926 %\n",
      "property_type : 0 CANTIDAD DE NANS\n",
      "property_type : 0.0 %\n",
      "price : 0 CANTIDAD DE NANS\n",
      "price : 0.0 %\n"
     ]
    }
   ],
   "source": [
    "for i in df.columns:\n",
    "  print(i,\":\", df[i].isnull().sum().sum(),\"CANTIDAD DE NANS\")\n",
    "  print(i,\":\", df[i].isnull().sum().sum()*100/len(df),\"%\")"
   ]
  },
  {
   "cell_type": "code",
   "execution_count": 13,
   "metadata": {},
   "outputs": [
    {
     "name": "stdout",
     "output_type": "stream",
     "text": [
      "2.88409428359317\n",
      "2.6193555311099783\n",
      "nan\n",
      "nan\n"
     ]
    }
   ],
   "source": [
    "##MEAN\n",
    "print(df.bedrooms.mean())\n",
    "print(df.bathrooms.mean())\n",
    "\n",
    "##MEDIA \n",
    "import numpy as np \n",
    "print(np.median(df.bedrooms))\n",
    "print(np.median(df.bathrooms))\n",
    "\n",
    "## REMPLAZAR NANS CON LA MEDIA \n",
    "from sklearn.impute import SimpleImputer\n",
    "imputer = SimpleImputer(missing_values = np.nan, strategy = 'median') \n",
    "\n",
    "imputer = imputer.fit(X[:, 1:3])\n",
    "X[:, 1:3] = imputer.transform(X[:,1:3])"
   ]
  },
  {
   "cell_type": "code",
   "execution_count": 14,
   "metadata": {},
   "outputs": [
    {
     "data": {
      "text/plain": [
       "array([['Lince', 2.0, 1.0, 'Departamento'],\n",
       "       ['Lince', 3.0, 4.0, 'Departamento'],\n",
       "       ['Lince', 2.0, 2.0, 'Departamento'],\n",
       "       ...,\n",
       "       ['Lurín', 6.0, 5.0, 'Casa'],\n",
       "       ['La Molina', 3.0, 6.0, 'Casa'],\n",
       "       ['Santiago de Surco', 5.0, 6.0, 'Casa']], dtype=object)"
      ]
     },
     "execution_count": 14,
     "metadata": {},
     "output_type": "execute_result"
    }
   ],
   "source": [
    "X"
   ]
  },
  {
   "cell_type": "code",
   "execution_count": 15,
   "metadata": {},
   "outputs": [
    {
     "data": {
      "text/plain": [
       "array([ 124. ,  363.9,  120. , ...,  699. ,  300. , 1100. ])"
      ]
     },
     "execution_count": 15,
     "metadata": {},
     "output_type": "execute_result"
    }
   ],
   "source": [
    "y"
   ]
  },
  {
   "cell_type": "code",
   "execution_count": 16,
   "metadata": {},
   "outputs": [],
   "source": [
    "\n",
    "##NOMBRES DE DEPARTAMENTOS EN NUMEROS \n",
    "from sklearn.preprocessing import LabelEncoder, OneHotEncoder\n",
    "from sklearn.compose import ColumnTransformer\n",
    "labelencoder_X = LabelEncoder()\n",
    "X[:, 0] = labelencoder_X.fit_transform(X[:, 0])\n"
   ]
  },
  {
   "cell_type": "code",
   "execution_count": 17,
   "metadata": {},
   "outputs": [],
   "source": [
    "\n",
    "labelencoder_X2 = LabelEncoder()\n",
    "X[:, 3] = labelencoder_X2.fit_transform(X[:, 3])\n"
   ]
  },
  {
   "cell_type": "code",
   "execution_count": 18,
   "metadata": {},
   "outputs": [],
   "source": [
    "## SPLIT DE DATOS\n",
    "from sklearn.model_selection import train_test_split\n",
    "X_train,X_test,y_train,y_test = train_test_split(X,y,test_size = 0.2)\n",
    "\n",
    "\n",
    "\n",
    "X_train = np.asarray(X_train).astype(np.float32)\n",
    "X_test = np.asarray(X_test).astype(np.float32)\n",
    "y_train = np.asarray(y_train).astype(np.float32)\n",
    "y_test  = np.asarray(y_test).astype(np.float32)"
   ]
  },
  {
   "cell_type": "code",
   "execution_count": 19,
   "metadata": {},
   "outputs": [
    {
     "name": "stdout",
     "output_type": "stream",
     "text": [
      "Epoch 1/38\n",
      "366/366 [==============================] - 9s 7ms/step - loss: 4598640.5000 - accuracy: 0.0117\n",
      "Epoch 2/38\n",
      "366/366 [==============================] - 2s 6ms/step - loss: 4588868.0000 - accuracy: 0.0117\n",
      "Epoch 3/38\n",
      "366/366 [==============================] - 2s 6ms/step - loss: 4585684.0000 - accuracy: 0.0117\n",
      "Epoch 4/38\n",
      "366/366 [==============================] - 2s 6ms/step - loss: 4577605.5000 - accuracy: 0.0117\n",
      "Epoch 5/38\n",
      "366/366 [==============================] - 2s 6ms/step - loss: 4580441.5000 - accuracy: 0.0117\n",
      "Epoch 6/38\n",
      "366/366 [==============================] - 2s 6ms/step - loss: 4577409.0000 - accuracy: 0.0117\n",
      "Epoch 7/38\n",
      "366/366 [==============================] - 2s 5ms/step - loss: 4578614.0000 - accuracy: 0.0117\n",
      "Epoch 8/38\n",
      "366/366 [==============================] - 2s 5ms/step - loss: 4575885.0000 - accuracy: 0.0117\n",
      "Epoch 9/38\n",
      "366/366 [==============================] - 2s 5ms/step - loss: 4574789.5000 - accuracy: 0.0117\n",
      "Epoch 10/38\n",
      "366/366 [==============================] - 2s 5ms/step - loss: 4575317.5000 - accuracy: 0.0117\n",
      "Epoch 11/38\n",
      "366/366 [==============================] - 2s 5ms/step - loss: 4566080.5000 - accuracy: 0.0117\n",
      "Epoch 12/38\n",
      "366/366 [==============================] - 2s 6ms/step - loss: 4567458.0000 - accuracy: 0.0117\n",
      "Epoch 13/38\n",
      "366/366 [==============================] - 2s 6ms/step - loss: 4568892.0000 - accuracy: 0.0117\n",
      "Epoch 14/38\n",
      "366/366 [==============================] - 2s 5ms/step - loss: 4566128.5000 - accuracy: 0.0117\n",
      "Epoch 15/38\n",
      "366/366 [==============================] - 2s 5ms/step - loss: 4563216.5000 - accuracy: 0.0116\n",
      "Epoch 16/38\n",
      "366/366 [==============================] - 2s 5ms/step - loss: 4562491.5000 - accuracy: 0.0116\n",
      "Epoch 17/38\n",
      "366/366 [==============================] - 2s 5ms/step - loss: 4558712.0000 - accuracy: 0.0114\n",
      "Epoch 18/38\n",
      "366/366 [==============================] - 2s 5ms/step - loss: 4556879.5000 - accuracy: 0.0113\n",
      "Epoch 19/38\n",
      "366/366 [==============================] - 2s 5ms/step - loss: 4559098.5000 - accuracy: 0.0113\n",
      "Epoch 20/38\n",
      "366/366 [==============================] - 2s 5ms/step - loss: 4558530.5000 - accuracy: 0.0113\n",
      "Epoch 21/38\n",
      "366/366 [==============================] - 2s 5ms/step - loss: 4555871.0000 - accuracy: 0.0112\n",
      "Epoch 22/38\n",
      "366/366 [==============================] - 2s 5ms/step - loss: 4549064.0000 - accuracy: 0.0112\n",
      "Epoch 23/38\n",
      "366/366 [==============================] - 2s 6ms/step - loss: 4556309.0000 - accuracy: 0.0111\n",
      "Epoch 24/38\n",
      "366/366 [==============================] - 2s 5ms/step - loss: 4547551.0000 - accuracy: 0.0111\n",
      "Epoch 25/38\n",
      "366/366 [==============================] - 2s 5ms/step - loss: 4549735.5000 - accuracy: 0.0111\n",
      "Epoch 26/38\n",
      "366/366 [==============================] - 2s 5ms/step - loss: 4545167.0000 - accuracy: 0.0111\n",
      "Epoch 27/38\n",
      "366/366 [==============================] - 2s 5ms/step - loss: 4546571.0000 - accuracy: 0.0110\n",
      "Epoch 28/38\n",
      "366/366 [==============================] - 2s 5ms/step - loss: 4545163.0000 - accuracy: 0.0111\n",
      "Epoch 29/38\n",
      "366/366 [==============================] - 2s 5ms/step - loss: 4543301.5000 - accuracy: 0.0111\n",
      "Epoch 30/38\n",
      "366/366 [==============================] - 2s 5ms/step - loss: 4540448.5000 - accuracy: 0.0111\n",
      "Epoch 31/38\n",
      "366/366 [==============================] - 2s 5ms/step - loss: 4541427.0000 - accuracy: 0.0111\n",
      "Epoch 32/38\n",
      "366/366 [==============================] - 2s 5ms/step - loss: 4538959.0000 - accuracy: 0.0112\n",
      "Epoch 33/38\n",
      "366/366 [==============================] - 2s 5ms/step - loss: 4536773.0000 - accuracy: 0.0114\n",
      "Epoch 34/38\n",
      "366/366 [==============================] - 2s 5ms/step - loss: 4545308.5000 - accuracy: 0.0112\n",
      "Epoch 35/38\n",
      "366/366 [==============================] - 2s 5ms/step - loss: 4537734.5000 - accuracy: 0.0111\n",
      "Epoch 36/38\n",
      "366/366 [==============================] - 2s 5ms/step - loss: 4534989.5000 - accuracy: 0.0111\n",
      "Epoch 37/38\n",
      "366/366 [==============================] - 2s 5ms/step - loss: 4538032.5000 - accuracy: 0.0112\n",
      "Epoch 38/38\n",
      "366/366 [==============================] - 2s 5ms/step - loss: 4533492.0000 - accuracy: 0.0112\n"
     ]
    }
   ],
   "source": [
    "\n",
    "from keras.models import Sequential\n",
    "from keras.layers import Dense\n",
    "\n",
    "#RED NEURONAL\n",
    "model = Sequential()\n",
    "model.add(Dense(4000, input_dim=4, activation='relu'))\n",
    "model.add(Dense(2000, activation='relu'))\n",
    "model.add(Dense(1000, activation='relu'))\n",
    "model.add(Dense(1, activation='relu'))\n",
    "model.compile(loss='mse', optimizer='adam', metrics=['accuracy'])\n",
    "history = model.fit(X_train, y_train, epochs=38, batch_size=100)\n"
   ]
  },
  {
   "cell_type": "code",
   "execution_count": 20,
   "metadata": {},
   "outputs": [
    {
     "name": "stdout",
     "output_type": "stream",
     "text": [
      "286/286 [==============================] - 1s 2ms/step\n"
     ]
    }
   ],
   "source": [
    "y_pred= model.predict(X_test)\n",
    "y_pred= np.round(y_pred)\n"
   ]
  },
  {
   "cell_type": "code",
   "execution_count": 21,
   "metadata": {},
   "outputs": [
    {
     "data": {
      "text/html": [
       "<div>\n",
       "<style scoped>\n",
       "    .dataframe tbody tr th:only-of-type {\n",
       "        vertical-align: middle;\n",
       "    }\n",
       "\n",
       "    .dataframe tbody tr th {\n",
       "        vertical-align: top;\n",
       "    }\n",
       "\n",
       "    .dataframe thead th {\n",
       "        text-align: right;\n",
       "    }\n",
       "</style>\n",
       "<table border=\"1\" class=\"dataframe\">\n",
       "  <thead>\n",
       "    <tr style=\"text-align: right;\">\n",
       "      <th></th>\n",
       "      <th>y_real</th>\n",
       "      <th>y_model</th>\n",
       "    </tr>\n",
       "  </thead>\n",
       "  <tbody>\n",
       "    <tr>\n",
       "      <th>0</th>\n",
       "      <td>315.000000</td>\n",
       "      <td>298.0</td>\n",
       "    </tr>\n",
       "    <tr>\n",
       "      <th>1</th>\n",
       "      <td>67.500000</td>\n",
       "      <td>135.0</td>\n",
       "    </tr>\n",
       "    <tr>\n",
       "      <th>2</th>\n",
       "      <td>110.374748</td>\n",
       "      <td>137.0</td>\n",
       "    </tr>\n",
       "    <tr>\n",
       "      <th>3</th>\n",
       "      <td>1.210000</td>\n",
       "      <td>0.0</td>\n",
       "    </tr>\n",
       "    <tr>\n",
       "      <th>4</th>\n",
       "      <td>68.000000</td>\n",
       "      <td>110.0</td>\n",
       "    </tr>\n",
       "  </tbody>\n",
       "</table>\n",
       "</div>"
      ],
      "text/plain": [
       "       y_real  y_model\n",
       "0  315.000000    298.0\n",
       "1   67.500000    135.0\n",
       "2  110.374748    137.0\n",
       "3    1.210000      0.0\n",
       "4   68.000000    110.0"
      ]
     },
     "execution_count": 21,
     "metadata": {},
     "output_type": "execute_result"
    }
   ],
   "source": [
    "a = y_test.reshape(-1,1)   # valores reales\n",
    "b = y_pred.reshape(-1,1)   # valores predichos\n",
    "c = np.concatenate([a,b],axis=1)\n",
    "c = pd.DataFrame(c,columns=['y_real','y_model'])\n",
    "c.head()\n",
    "\n"
   ]
  },
  {
   "cell_type": "code",
   "execution_count": 22,
   "metadata": {},
   "outputs": [
    {
     "data": {
      "text/html": [
       "<div>\n",
       "<style scoped>\n",
       "    .dataframe tbody tr th:only-of-type {\n",
       "        vertical-align: middle;\n",
       "    }\n",
       "\n",
       "    .dataframe tbody tr th {\n",
       "        vertical-align: top;\n",
       "    }\n",
       "\n",
       "    .dataframe thead th {\n",
       "        text-align: right;\n",
       "    }\n",
       "</style>\n",
       "<table border=\"1\" class=\"dataframe\">\n",
       "  <thead>\n",
       "    <tr style=\"text-align: right;\">\n",
       "      <th></th>\n",
       "      <th>y_real</th>\n",
       "      <th>y_model</th>\n",
       "    </tr>\n",
       "  </thead>\n",
       "  <tbody>\n",
       "    <tr>\n",
       "      <th>y_real</th>\n",
       "      <td>1.000000</td>\n",
       "      <td>0.212785</td>\n",
       "    </tr>\n",
       "    <tr>\n",
       "      <th>y_model</th>\n",
       "      <td>0.212785</td>\n",
       "      <td>1.000000</td>\n",
       "    </tr>\n",
       "  </tbody>\n",
       "</table>\n",
       "</div>"
      ],
      "text/plain": [
       "           y_real   y_model\n",
       "y_real   1.000000  0.212785\n",
       "y_model  0.212785  1.000000"
      ]
     },
     "execution_count": 22,
     "metadata": {},
     "output_type": "execute_result"
    }
   ],
   "source": [
    "c = pd.DataFrame(c)\n",
    "c.corr()"
   ]
  },
  {
   "cell_type": "code",
   "execution_count": 23,
   "metadata": {},
   "outputs": [
    {
     "data": {
      "text/html": [
       "<div>\n",
       "<style scoped>\n",
       "    .dataframe tbody tr th:only-of-type {\n",
       "        vertical-align: middle;\n",
       "    }\n",
       "\n",
       "    .dataframe tbody tr th {\n",
       "        vertical-align: top;\n",
       "    }\n",
       "\n",
       "    .dataframe thead th {\n",
       "        text-align: right;\n",
       "    }\n",
       "</style>\n",
       "<table border=\"1\" class=\"dataframe\">\n",
       "  <thead>\n",
       "    <tr style=\"text-align: right;\">\n",
       "      <th></th>\n",
       "      <th>y_real</th>\n",
       "      <th>y_model</th>\n",
       "      <th>error</th>\n",
       "    </tr>\n",
       "  </thead>\n",
       "  <tbody>\n",
       "    <tr>\n",
       "      <th>0</th>\n",
       "      <td>315.000000</td>\n",
       "      <td>298.0</td>\n",
       "      <td>17.000000</td>\n",
       "    </tr>\n",
       "    <tr>\n",
       "      <th>1</th>\n",
       "      <td>67.500000</td>\n",
       "      <td>135.0</td>\n",
       "      <td>67.500000</td>\n",
       "    </tr>\n",
       "    <tr>\n",
       "      <th>2</th>\n",
       "      <td>110.374748</td>\n",
       "      <td>137.0</td>\n",
       "      <td>26.625252</td>\n",
       "    </tr>\n",
       "    <tr>\n",
       "      <th>3</th>\n",
       "      <td>1.210000</td>\n",
       "      <td>0.0</td>\n",
       "      <td>1.210000</td>\n",
       "    </tr>\n",
       "    <tr>\n",
       "      <th>4</th>\n",
       "      <td>68.000000</td>\n",
       "      <td>110.0</td>\n",
       "      <td>42.000000</td>\n",
       "    </tr>\n",
       "  </tbody>\n",
       "</table>\n",
       "</div>"
      ],
      "text/plain": [
       "       y_real  y_model      error\n",
       "0  315.000000    298.0  17.000000\n",
       "1   67.500000    135.0  67.500000\n",
       "2  110.374748    137.0  26.625252\n",
       "3    1.210000      0.0   1.210000\n",
       "4   68.000000    110.0  42.000000"
      ]
     },
     "execution_count": 23,
     "metadata": {},
     "output_type": "execute_result"
    }
   ],
   "source": [
    "c['error'] = np.abs(c.y_real - c.y_model)\n",
    "c.head()\n"
   ]
  },
  {
   "cell_type": "code",
   "execution_count": 24,
   "metadata": {},
   "outputs": [
    {
     "data": {
      "text/plain": [
       "262.5165100097656"
      ]
     },
     "execution_count": 24,
     "metadata": {},
     "output_type": "execute_result"
    }
   ],
   "source": [
    "mae = c.error.mean()\n",
    "mae\n"
   ]
  },
  {
   "cell_type": "code",
   "execution_count": null,
   "metadata": {},
   "outputs": [],
   "source": []
  }
 ],
 "metadata": {
  "colab": {
   "authorship_tag": "ABX9TyOZeHmRQ4+JKHjdHuWS80Xq",
   "collapsed_sections": [],
   "provenance": []
  },
  "kernelspec": {
   "display_name": "Python 3 (ipykernel)",
   "language": "python",
   "name": "python3"
  },
  "language_info": {
   "codemirror_mode": {
    "name": "ipython",
    "version": 3
   },
   "file_extension": ".py",
   "mimetype": "text/x-python",
   "name": "python",
   "nbconvert_exporter": "python",
   "pygments_lexer": "ipython3",
   "version": "3.9.12"
  }
 },
 "nbformat": 4,
 "nbformat_minor": 4
}
